{
 "cells": [
  {
   "cell_type": "markdown",
   "id": "86793809",
   "metadata": {},
   "source": [
    "# Day 2 – Python: Conditions & Logic\n",
    "_Week 1 – Business Analyst Journey_"
   ]
  },
  {
   "cell_type": "markdown",
   "id": "138c2973",
   "metadata": {},
   "source": [
    "## ✅ Topics Covered\n",
    "- `if`, `elif`, `else`\n",
    "- Comparison operators: `==`, `!=`, `>`, `<`, `>=`, `<=`\n",
    "- Boolean logic: `and`, `or`, `not`\n",
    "- Practice problems: Age category, BMI calculator, login system\n"
   ]
  },
  {
   "cell_type": "markdown",
   "id": "d97201a4",
   "metadata": {},
   "source": [
    "### 🧪 Age Category Checker"
   ]
  },
  {
   "cell_type": "code",
   "execution_count": null,
   "id": "df4e0f06",
   "metadata": {},
   "outputs": [],
   "source": [
    "age = int(input(\"What is your age? \"))\n",
    "if age <= 13:\n",
    "    print(\"Child\")\n",
    "elif age <= 17:\n",
    "    print(\"Teenager\")\n",
    "else:\n",
    "    print(\"Adult\")"
   ]
  },
  {
   "cell_type": "markdown",
   "id": "a7c4295a",
   "metadata": {},
   "source": [
    "### 🧮 BMI Calculator"
   ]
  },
  {
   "cell_type": "code",
   "execution_count": null,
   "id": "c155fea2",
   "metadata": {},
   "outputs": [],
   "source": [
    "weight = int(input(\"What is your weight in kg? \"))\n",
    "height = float(input(\"What is your height in meters? \"))\n",
    "bmi = weight / (height ** 2)\n",
    "\n",
    "if bmi < 18.5:\n",
    "    print(\"Underweight\")\n",
    "elif 18.5 <= bmi < 25:\n",
    "    print(\"Normal weight\")\n",
    "elif 25 <= bmi < 30:\n",
    "    print(\"Overweight\")\n",
    "else:\n",
    "    print(\"Obese\")"
   ]
  },
  {
   "cell_type": "markdown",
   "id": "a745bb58",
   "metadata": {},
   "source": [
    "### 🔐 Login System"
   ]
  },
  {
   "cell_type": "code",
   "execution_count": null,
   "id": "03155fb5",
   "metadata": {},
   "outputs": [],
   "source": [
    "username = input(\"Enter your username: \")\n",
    "password = input(\"Enter your password: \")\n",
    "\n",
    "if username == \"admin\" and password == \"1234\":\n",
    "    print(\"Access Granted\")\n",
    "else:\n",
    "    print(\"Access Denied\")"
   ]
  },
  {
   "cell_type": "markdown",
   "id": "b233a3eb",
   "metadata": {},
   "source": [
    "### 🗳 Voter Eligibility Checker"
   ]
  },
  {
   "cell_type": "code",
   "execution_count": null,
   "id": "f652bbc7",
   "metadata": {},
   "outputs": [],
   "source": [
    "age = int(input(\"What is your age? \"))\n",
    "has_id = input(\"Do you have a valid ID? (yes/no): \").lower()\n",
    "\n",
    "if age >= 18 and has_id == \"yes\":\n",
    "    print(\"You are eligible to vote.\")\n",
    "else:\n",
    "    print(\"You are not eligible to vote.\")"
   ]
  }
 ],
 "metadata": {},
 "nbformat": 4,
 "nbformat_minor": 5
}
