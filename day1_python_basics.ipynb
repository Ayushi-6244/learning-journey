{
 "cells": [
  {
   "cell_type": "markdown",
   "id": "35266f11",
   "metadata": {},
   "source": [
    "# Day 1 – Python Basics\n",
    "_Aayushi's Learning Journal_ 📘\n",
    "\n",
    "Topics Covered:\n",
    "- Variables and Data Types\n",
    "- `print()` and `input()`\n",
    "- Simple expressions"
   ]
  },
  {
   "cell_type": "code",
   "execution_count": null,
   "id": "c15231eb",
   "metadata": {},
   "outputs": [],
   "source": [
    "# Print a greeting message\n",
    "print(\"Welcome to Python!\")"
   ]
  },
  {
   "cell_type": "code",
   "execution_count": null,
   "id": "9e0dea8c",
   "metadata": {},
   "outputs": [],
   "source": [
    "# Store personal information in variables\n",
    "name = \"Aayushi\"\n",
    "age = 26\n",
    "city = \"New York\"\n",
    "\n",
    "print(name, age, city)"
   ]
  },
  {
   "cell_type": "code",
   "execution_count": null,
   "id": "98f67375",
   "metadata": {},
   "outputs": [],
   "source": [
    "# Take user input and print it\n",
    "user_name = input(\"What's your name? \")\n",
    "print(\"Hello\", user_name)"
   ]
  },
  {
   "cell_type": "code",
   "execution_count": null,
   "id": "f6406a87",
   "metadata": {},
   "outputs": [],
   "source": [
    "# Data type example\n",
    "num = 10          # int\n",
    "price = 15.99     # float\n",
    "is_student = True # bool\n",
    "message = \"Hi\"    # string\n",
    "\n",
    "print(type(num), type(price), type(is_student), type(message))"
   ]
  },
  {
   "cell_type": "code",
   "execution_count": null,
   "id": "ec6dd95a",
   "metadata": {},
   "outputs": [],
   "source": [
    "# Mini Task – Weekly Water Intake\n",
    "glasses = int(input(\"How many glasses of water did you drink today? \"))\n",
    "print(\"You might drink\", glasses * 7, \"glasses in a week!\")"
   ]
  }
 ],
 "metadata": {},
 "nbformat": 4,
 "nbformat_minor": 5
}
